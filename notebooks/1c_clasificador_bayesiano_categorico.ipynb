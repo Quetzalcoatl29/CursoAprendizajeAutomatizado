{
  "nbformat": 4,
  "nbformat_minor": 0,
  "metadata": {
    "colab": {
      "name": "1c_clasificador_bayesiano_categorico.ipynb",
      "provenance": [],
      "collapsed_sections": [],
      "authorship_tag": "ABX9TyPuWsMGdu4uvBiYxY2Zqnqp",
      "include_colab_link": true
    },
    "kernelspec": {
      "name": "python3",
      "display_name": "Python 3"
    }
  },
  "cells": [
    {
      "cell_type": "markdown",
      "metadata": {
        "id": "view-in-github",
        "colab_type": "text"
      },
      "source": [
        "<a href=\"https://colab.research.google.com/github/gibranfp/CursoAprendizajeAutomatizado/blob/master/notebooks/1c_clasificador_bayesiano_categorico.ipynb\" target=\"_parent\"><img src=\"https://colab.research.google.com/assets/colab-badge.svg\" alt=\"Open In Colab\"/></a>"
      ]
    },
    {
      "cell_type": "markdown",
      "metadata": {
        "id": "uSjbNy_ml5aa"
      },
      "source": [
        "# Clasificador bayesiano ingenuo categórico\r\n",
        "En este libreta revisaremos dos formas de programar el clasificador bayesiano ingenuo. "
      ]
    },
    {
      "cell_type": "code",
      "metadata": {
        "id": "awNuegI336al"
      },
      "source": [
        "import pandas as pd\r\n",
        "import numpy as np\r\n",
        "import matplotlib.pyplot as plt\r\n",
        "\r\n",
        "from sklearn.model_selection import train_test_split\r\n",
        "from sklearn.preprocessing import OneHotEncoder\r\n",
        "from sklearn.naive_bayes import MultinomialNB"
      ],
      "execution_count": 1,
      "outputs": []
    },
    {
      "cell_type": "markdown",
      "metadata": {
        "id": "Hlo_0sqXmSDw"
      },
      "source": [
        "## Conjunto de datos\r\n",
        "Usaremos un conjunto de datos de partidas del juego Go, la cual contiene dos atributos categóricos: ID del jugador con fichas negras y ID del jugador con fichas blancas. Como respuesta tenemos el ganador de la partida."
      ]
    },
    {
      "cell_type": "code",
      "metadata": {
        "id": "wYk_UL92mRcS"
      },
      "source": [
        "df_ent = pd.read_csv('https://raw.githubusercontent.com/gibranfp/CursoAprendizajeAutomatizado/master/data/partidas_entrenamiento.csv')\r\n",
        "df_prueba = pd.read_csv('https://raw.githubusercontent.com/gibranfp/CursoAprendizajeAutomatizado/master/data/partidas_prueba.csv')"
      ],
      "execution_count": 2,
      "outputs": []
    },
    {
      "cell_type": "markdown",
      "metadata": {
        "id": "7zm_qTAriYYk"
      },
      "source": [
        "Visualizamos los primeros registros."
      ]
    },
    {
      "cell_type": "code",
      "metadata": {
        "colab": {
          "base_uri": "https://localhost:8080/",
          "height": 202
        },
        "id": "E0oodw_l-waU",
        "outputId": "e749742f-f25a-489a-9b6f-1c39760fc86e"
      },
      "source": [
        "df_ent.head(5)"
      ],
      "execution_count": 3,
      "outputs": [
        {
          "output_type": "execute_result",
          "data": {
            "text/html": [
              "<div>\n",
              "<style scoped>\n",
              "    .dataframe tbody tr th:only-of-type {\n",
              "        vertical-align: middle;\n",
              "    }\n",
              "\n",
              "    .dataframe tbody tr th {\n",
              "        vertical-align: top;\n",
              "    }\n",
              "\n",
              "    .dataframe thead th {\n",
              "        text-align: right;\n",
              "    }\n",
              "</style>\n",
              "<table border=\"1\" class=\"dataframe\">\n",
              "  <thead>\n",
              "    <tr style=\"text-align: right;\">\n",
              "      <th></th>\n",
              "      <th>id_blancas</th>\n",
              "      <th>id_negras</th>\n",
              "      <th>ganador</th>\n",
              "    </tr>\n",
              "  </thead>\n",
              "  <tbody>\n",
              "    <tr>\n",
              "      <th>0</th>\n",
              "      <td>3</td>\n",
              "      <td>4</td>\n",
              "      <td>1</td>\n",
              "    </tr>\n",
              "    <tr>\n",
              "      <th>1</th>\n",
              "      <td>7</td>\n",
              "      <td>8</td>\n",
              "      <td>1</td>\n",
              "    </tr>\n",
              "    <tr>\n",
              "      <th>2</th>\n",
              "      <td>40</td>\n",
              "      <td>10</td>\n",
              "      <td>1</td>\n",
              "    </tr>\n",
              "    <tr>\n",
              "      <th>3</th>\n",
              "      <td>16</td>\n",
              "      <td>17</td>\n",
              "      <td>1</td>\n",
              "    </tr>\n",
              "    <tr>\n",
              "      <th>4</th>\n",
              "      <td>8</td>\n",
              "      <td>18</td>\n",
              "      <td>1</td>\n",
              "    </tr>\n",
              "  </tbody>\n",
              "</table>\n",
              "</div>"
            ],
            "text/plain": [
              "   id_blancas  id_negras  ganador\n",
              "0           3          4        1\n",
              "1           7          8        1\n",
              "2          40         10        1\n",
              "3          16         17        1\n",
              "4           8         18        1"
            ]
          },
          "metadata": {
            "tags": []
          },
          "execution_count": 3
        }
      ]
    },
    {
      "cell_type": "code",
      "metadata": {
        "colab": {
          "base_uri": "https://localhost:8080/",
          "height": 202
        },
        "id": "b1vnyjmNAT00",
        "outputId": "8ee5681a-8bf5-45bd-d5f0-5810423bdb8d"
      },
      "source": [
        "df_prueba.head(5)"
      ],
      "execution_count": 4,
      "outputs": [
        {
          "output_type": "execute_result",
          "data": {
            "text/html": [
              "<div>\n",
              "<style scoped>\n",
              "    .dataframe tbody tr th:only-of-type {\n",
              "        vertical-align: middle;\n",
              "    }\n",
              "\n",
              "    .dataframe tbody tr th {\n",
              "        vertical-align: top;\n",
              "    }\n",
              "\n",
              "    .dataframe thead th {\n",
              "        text-align: right;\n",
              "    }\n",
              "</style>\n",
              "<table border=\"1\" class=\"dataframe\">\n",
              "  <thead>\n",
              "    <tr style=\"text-align: right;\">\n",
              "      <th></th>\n",
              "      <th>id_blancas</th>\n",
              "      <th>id_negras</th>\n",
              "      <th>ganador</th>\n",
              "    </tr>\n",
              "  </thead>\n",
              "  <tbody>\n",
              "    <tr>\n",
              "      <th>0</th>\n",
              "      <td>35</td>\n",
              "      <td>43</td>\n",
              "      <td>1</td>\n",
              "    </tr>\n",
              "    <tr>\n",
              "      <th>1</th>\n",
              "      <td>45</td>\n",
              "      <td>9</td>\n",
              "      <td>0</td>\n",
              "    </tr>\n",
              "    <tr>\n",
              "      <th>2</th>\n",
              "      <td>55</td>\n",
              "      <td>106</td>\n",
              "      <td>0</td>\n",
              "    </tr>\n",
              "    <tr>\n",
              "      <th>3</th>\n",
              "      <td>35</td>\n",
              "      <td>43</td>\n",
              "      <td>1</td>\n",
              "    </tr>\n",
              "    <tr>\n",
              "      <th>4</th>\n",
              "      <td>35</td>\n",
              "      <td>43</td>\n",
              "      <td>1</td>\n",
              "    </tr>\n",
              "  </tbody>\n",
              "</table>\n",
              "</div>"
            ],
            "text/plain": [
              "   id_blancas  id_negras  ganador\n",
              "0          35         43        1\n",
              "1          45          9        0\n",
              "2          55        106        0\n",
              "3          35         43        1\n",
              "4          35         43        1"
            ]
          },
          "metadata": {
            "tags": []
          },
          "execution_count": 4
        }
      ]
    },
    {
      "cell_type": "markdown",
      "metadata": {
        "id": "M6lv9ON8v9AZ"
      },
      "source": [
        "Examinamos algunos estadísticos."
      ]
    },
    {
      "cell_type": "code",
      "metadata": {
        "id": "Ycb8-qkX6bz1",
        "colab": {
          "base_uri": "https://localhost:8080/",
          "height": 171
        },
        "outputId": "14a31b4e-e208-418e-e97c-79561de11281"
      },
      "source": [
        "df_prueba.astype('object').describe()"
      ],
      "execution_count": 5,
      "outputs": [
        {
          "output_type": "execute_result",
          "data": {
            "text/html": [
              "<div>\n",
              "<style scoped>\n",
              "    .dataframe tbody tr th:only-of-type {\n",
              "        vertical-align: middle;\n",
              "    }\n",
              "\n",
              "    .dataframe tbody tr th {\n",
              "        vertical-align: top;\n",
              "    }\n",
              "\n",
              "    .dataframe thead th {\n",
              "        text-align: right;\n",
              "    }\n",
              "</style>\n",
              "<table border=\"1\" class=\"dataframe\">\n",
              "  <thead>\n",
              "    <tr style=\"text-align: right;\">\n",
              "      <th></th>\n",
              "      <th>id_blancas</th>\n",
              "      <th>id_negras</th>\n",
              "      <th>ganador</th>\n",
              "    </tr>\n",
              "  </thead>\n",
              "  <tbody>\n",
              "    <tr>\n",
              "      <th>count</th>\n",
              "      <td>115</td>\n",
              "      <td>115</td>\n",
              "      <td>115</td>\n",
              "    </tr>\n",
              "    <tr>\n",
              "      <th>unique</th>\n",
              "      <td>34</td>\n",
              "      <td>31</td>\n",
              "      <td>2</td>\n",
              "    </tr>\n",
              "    <tr>\n",
              "      <th>top</th>\n",
              "      <td>35</td>\n",
              "      <td>43</td>\n",
              "      <td>1</td>\n",
              "    </tr>\n",
              "    <tr>\n",
              "      <th>freq</th>\n",
              "      <td>23</td>\n",
              "      <td>47</td>\n",
              "      <td>82</td>\n",
              "    </tr>\n",
              "  </tbody>\n",
              "</table>\n",
              "</div>"
            ],
            "text/plain": [
              "        id_blancas  id_negras  ganador\n",
              "count          115        115      115\n",
              "unique          34         31        2\n",
              "top             35         43        1\n",
              "freq            23         47       82"
            ]
          },
          "metadata": {
            "tags": []
          },
          "execution_count": 5
        }
      ]
    },
    {
      "cell_type": "markdown",
      "metadata": {
        "id": "q8QW3Nza6bOl"
      },
      "source": [
        "## Programación con NumPy\r\n",
        "Definimos una función para obtener la probabilidad de una categoría.\r\n"
      ]
    },
    {
      "cell_type": "code",
      "metadata": {
        "id": "yHVsAJPjZqfA"
      },
      "source": [
        "def categorical(c, q):\n",
        "    \"\"\"\n",
        "    Distribución categórica\n",
        "    \"\"\"\n",
        "    return q[int(c)]"
      ],
      "execution_count": 6,
      "outputs": []
    },
    {
      "cell_type": "markdown",
      "metadata": {
        "id": "Z9xkzCP5yBiJ"
      },
      "source": [
        "Definimos nuestro clasificador bayesiano ingenuo para la tarea de predicción del ganador de una partida dados los jugadores y con qué fichas juega. "
      ]
    },
    {
      "cell_type": "code",
      "metadata": {
        "id": "FrYq6JPcZvq6"
      },
      "source": [
        "class CategoricalNB:\n",
        "  \"Clasificador bayesiano ingenuo binario con características categóricas\"\n",
        "\n",
        "  def prob_clase_(self):\n",
        "    \"\"\"\n",
        "    Calcula probabilidad de la clase\n",
        "    \"\"\"\n",
        "    return self.qc\n",
        "\n",
        "  def prob_cond_clase_(self, X):\n",
        "    \"\"\"\n",
        "    Calcula probabilidad de atributo dada la clase\n",
        "    \"\"\"\n",
        "    v = np.zeros((X.shape[0], self.clases.size))\n",
        "    for k in range(X.shape[0]):\n",
        "      for i in range(self.clases.size):\n",
        "        for j in range(self.n_atrib):\n",
        "          v[k, i] = v[k, i] + categorical(X[k, j], self.qa[i, j, :])\n",
        "\n",
        "    return v\n",
        "\n",
        "  def fit(self, X, y, alfa = 2):\n",
        "    \"\"\"\n",
        "    Entrena clasificador bayesiano ingenuo\n",
        "    \"\"\"\n",
        "    # Calcula parámetros de distribución a priori (categórica)\n",
        "    n = X.shape[0]\n",
        "    self.clases = np.unique(y)\n",
        "    self.n_clases = self.clases.size\n",
        "    self.qc = np.zeros(self.clases.size)\n",
        "    for i,c in enumerate(self.clases):\n",
        "      # Misma alfa para todas las categorías\n",
        "      self.qc[i] = (np.sum(y == c) + alfa - 1) / (n + alfa * self.n_clases - self.n_clases)\n",
        "\n",
        "    # Escala logarítmica para parámetros de a priori\n",
        "    self.qc[self.qc == 0] = np.nextafter(0, 1)\n",
        "    self.qc[self.qc == 1] = np.nextafter(1, 0)\n",
        "    self.qc = np.log(self.qc)\n",
        "\n",
        "    # Calcula parámetros de verosimilitud (categórica)\n",
        "    self.n_atrib = X.shape[1]\n",
        "\n",
        "    # Presupone mismas categorías en los dos atributos (mismos posibles jugadores)\n",
        "    self.n_cat = int(np.max(X)) + 1\n",
        "    self.qa = np.zeros((self.n_clases, self.n_atrib, self.n_cat))\n",
        "\n",
        "    # Estima parámetros para cada clase, atributo y categoría (máximo a posteriori)\n",
        "    for c in self.clases:\n",
        "      for i in range(self.n_atrib):\n",
        "        X_ci = X[np.where(y == c), i]\n",
        "        for j in range(self.n_cat): \n",
        "          # Misma alfa para todas las categorías\n",
        "          self.qa[c, i, j] = (np.sum(X_ci == j) + alfa - 1) / (X_ci.shape[0] + alfa * self.n_cat - self.n_cat)\n",
        "\n",
        "    # Usa escala logarítmica para parámetros de verosimilitud\n",
        "    self.qa[self.qa == 0] = np.nextafter(0, 1)\n",
        "    self.qa[self.qa == 1] = np.nextafter(1, 0)\n",
        "    self.qa = np.log(self.qa)\n",
        "\n",
        "  def predict(self, X):\n",
        "    \"\"\"\n",
        "    Predice clases dada un conjunto de datos\n",
        "    \"\"\"\n",
        "    aposteriori = self.prob_clase_() + self.prob_cond_clase_(X)\n",
        "    return np.argmax(aposteriori, axis = 1), np.max(aposteriori, axis = 1)\n",
        "\n",
        "  def score(self, X, y):\n",
        "    \"\"\"\n",
        "    Calcula exactitud dado datos\n",
        "    \"\"\"\n",
        "    preds, probs = self.predict(X)\n",
        "    return np.mean(preds == y) * 100"
      ],
      "execution_count": 7,
      "outputs": []
    },
    {
      "cell_type": "markdown",
      "metadata": {
        "id": "OgBz01HGtjkI"
      },
      "source": [
        "Entrenamos y evaluamos el clasificador. "
      ]
    },
    {
      "cell_type": "code",
      "metadata": {
        "id": "rc0kR3U-Z5zb",
        "colab": {
          "base_uri": "https://localhost:8080/"
        },
        "outputId": "93e6e9fd-f3ad-4efd-b02c-59755377b0c4"
      },
      "source": [
        "X_ent = df_ent[['id_blancas', 'id_negras']].to_numpy()\n",
        "y_ent = df_ent['ganador'].to_numpy()\n",
        "\n",
        "X_prueba = df_prueba[['id_blancas', 'id_negras']].to_numpy()\n",
        "y_prueba = df_prueba['ganador'].to_numpy()\n",
        "\n",
        "cnb = CategoricalNB()\n",
        "cnb.fit(X_ent, y_ent)\n",
        "\n",
        "print('Exactitud en entrenamiento: {0:.2f}%'.format(cnb.score(X_ent, y_ent)))\n",
        "print('Exactitud en prueba: {0:.2f}%'.format(cnb.score(X_prueba, y_prueba)))"
      ],
      "execution_count": 8,
      "outputs": [
        {
          "output_type": "stream",
          "text": [
            "Exactitud en entrenamiento: 84.64%\n",
            "Exactitud en prueba: 72.17%\n"
          ],
          "name": "stdout"
        }
      ]
    },
    {
      "cell_type": "markdown",
      "metadata": {
        "id": "4rc9hsG7aX6x"
      },
      "source": [
        "\n",
        "## Programación con scikit-learn\n",
        "Convertimos cada atributo categórico a 1 de K."
      ]
    },
    {
      "cell_type": "code",
      "metadata": {
        "id": "a1XNYrPqaO1P"
      },
      "source": [
        "n_values = int(np.max(X_ent[:,:2])) + 1\n",
        "categorias = [c for c in range(n_values)]\n",
        "\n",
        "X0_ent = X_ent[:, 0]\n",
        "ohe0 = OneHotEncoder(categories=[categorias])\n",
        "X0_ent_ohe = ohe0.fit_transform(X0_ent[:, np.newaxis])\n",
        "\n",
        "X1_ent = X_ent[:, 1]\n",
        "ohe1 = OneHotEncoder(categories=[categorias])\n",
        "X1_ent_ohe = ohe1.fit_transform(X1_ent[:, np.newaxis])"
      ],
      "execution_count": 9,
      "outputs": []
    },
    {
      "cell_type": "markdown",
      "metadata": {
        "id": "CgXA-1y9a4k9"
      },
      "source": [
        "Generamos modelos de clasificación bayesiana multinomial por separado por cada atributo."
      ]
    },
    {
      "cell_type": "code",
      "metadata": {
        "id": "czB3Bz2Ga9b3"
      },
      "source": [
        "mnb0 = MultinomialNB()\n",
        "mnb0.fit(X0_ent_ohe, y_ent)\n",
        "mnb1 = MultinomialNB()\n",
        "mnb1 = mnb1.fit(X1_ent_ohe, y_ent)"
      ],
      "execution_count": 10,
      "outputs": []
    },
    {
      "cell_type": "markdown",
      "metadata": {
        "id": "lrOmct1Kac2I"
      },
      "source": [
        "Calcula probabilidad de clases dados datos de entrenamiento por cada modelo."
      ]
    },
    {
      "cell_type": "code",
      "metadata": {
        "id": "1QzFNxXeacQP"
      },
      "source": [
        "pe0 = mnb0.predict_log_proba(X0_ent_ohe)\n",
        "pe1 = mnb1.predict_log_proba(X1_ent_ohe)"
      ],
      "execution_count": 11,
      "outputs": []
    },
    {
      "cell_type": "markdown",
      "metadata": {
        "id": "aHEDbRliagza"
      },
      "source": [
        "Sumamos probabilidades y restamos a priori extra (se sumó 2 veces porque fueron 2 modelos)."
      ]
    },
    {
      "cell_type": "code",
      "metadata": {
        "id": "_h61rOoaamiJ"
      },
      "source": [
        "pet = pe0 + pe1 - mnb0.class_log_prior_ \n",
        "pred_ent = pet.argmax(axis = 1)"
      ],
      "execution_count": 12,
      "outputs": []
    },
    {
      "cell_type": "markdown",
      "metadata": {
        "id": "LbSlBxMOanBd"
      },
      "source": [
        "Convertimos cada atributo de los datos de prueba a 1 de K."
      ]
    },
    {
      "cell_type": "code",
      "metadata": {
        "id": "L9ASpE80awJy"
      },
      "source": [
        "X0_prueba = X_prueba[:, 0]\n",
        "X1_prueba = X_prueba[:, 1]\n",
        "\n",
        "X0_prueba_ohe = ohe0.transform(X0_prueba[:, np.newaxis])\n",
        "X1_prueba_ohe = ohe1.transform(X1_prueba[:, np.newaxis])"
      ],
      "execution_count": 13,
      "outputs": []
    },
    {
      "cell_type": "markdown",
      "metadata": {
        "id": "X-1CC74hbEks"
      },
      "source": [
        "Calculamos probabilidad de clases dados datos de entrenamiento por cada modelo."
      ]
    },
    {
      "cell_type": "code",
      "metadata": {
        "id": "_acSkFyMbG6j"
      },
      "source": [
        "pv0 = mnb0.predict_log_proba(X0_prueba_ohe)\n",
        "pv1 = mnb1.predict_log_proba(X1_prueba_ohe)"
      ],
      "execution_count": 14,
      "outputs": []
    },
    {
      "cell_type": "markdown",
      "metadata": {
        "id": "9ERryhRCbLgB"
      },
      "source": [
        "Sumamos probabilidades y restamos a priori extra (se sumó 2 veces porque fueron 2 modelos)."
      ]
    },
    {
      "cell_type": "code",
      "metadata": {
        "id": "53_tyDvobOHt"
      },
      "source": [
        "pvt = pv0 + pv1 - mnb0.class_log_prior_\n",
        "pred_prueba = pvt.argmax(axis = 1)"
      ],
      "execution_count": 15,
      "outputs": []
    },
    {
      "cell_type": "markdown",
      "metadata": {
        "id": "ZJGhtV2ObQ8F"
      },
      "source": [
        "Calculamos la exaxctitud para los conjuntos de entrenamiento y prueba."
      ]
    },
    {
      "cell_type": "code",
      "metadata": {
        "id": "pHvm73cSbWih",
        "colab": {
          "base_uri": "https://localhost:8080/"
        },
        "outputId": "242f6d02-1dc3-4d03-d386-80d4b2179f38"
      },
      "source": [
        "print('Exactitud en entrenamiento: {0:.2f}%'.format(np.mean(pred_ent == y_ent) * 100))\n",
        "print('Exactitud en prueba: {0:.2f}%'.format(np.mean(pred_prueba == y_prueba) * 100))"
      ],
      "execution_count": 16,
      "outputs": [
        {
          "output_type": "stream",
          "text": [
            "Exactitud en entrenamiento: 84.64%\n",
            "Exactitud en prueba: 69.57%\n"
          ],
          "name": "stdout"
        }
      ]
    }
  ]
}